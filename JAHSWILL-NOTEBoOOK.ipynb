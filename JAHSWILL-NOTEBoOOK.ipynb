{
 "cells": [
  {
   "cell_type": "markdown",
   "id": "4940d344-be7e-4a24-b7d0-0344697b4d15",
   "metadata": {},
   "source": [
    "<h1> <strong> My Jupyter Notebook on IBM Watson Studio </strong> </h1>"
   ]
  },
  {
   "cell_type": "markdown",
   "id": "e1bc961b-8a10-4e81-854d-3048f881969f",
   "metadata": {},
   "source": [
    "<h2><strong>NAME: JAHSWILL EJEMOGO\n",
    "   <br>CURRENT POSITION: TECH STUDENT\n",
    "    <br>ASPIRATION: SENIOR CYBERSECURITY ENGINNER/DIGITAL FORENSICS ANALYST</strong></h2>"
   ]
  },
  {
   "cell_type": "markdown",
   "id": "243a7655-7b40-4ea3-b167-b19cad2f556d",
   "metadata": {},
   "source": [
    "<h3> <em> DATA-SCIENCE gives me the ability to easily detect statistical patterns and clues in big data thus providing answers to complex questions </em> </h3>"
   ]
  },
  {
   "cell_type": "markdown",
   "id": "874c6700-1ad7-4eab-958d-c87f0f2b3aa2",
   "metadata": {},
   "source": [
    "<h3> <strong> The following code calculate the area of triangle. </strong></h3>"
   ]
  },
  {
   "cell_type": "code",
   "execution_count": 5,
   "id": "2a08a2e3-ba7c-4492-9b76-155c35e2ccab",
   "metadata": {},
   "outputs": [
    {
     "data": {
      "text/plain": [
       "625"
      ]
     },
     "execution_count": 5,
     "metadata": {},
     "output_type": "execute_result"
    }
   ],
   "source": [
    "def area(b,a):\n",
    "    return(b*a)**2\n",
    "area(5,5)"
   ]
  },
  {
   "cell_type": "markdown",
   "id": "b0fcced5-1144-484b-bd24-99b25e8a2129",
   "metadata": {},
   "source": [
    "<h3> My name is Jahswill and my email address is <a>bogostouwn@gmail.com</a> \n",
    "    </br>\n",
    "    <strong> Below is a list of some of my Certifications in Tech:</strong>\n",
    "    <ol> \n",
    "    <li> Networking: <ul> NETWORK+ </ul> <ul> CCNA </ul> </li>\n",
    "    <li> Security: <ul> OSCP</ul> <ul> CISSP</ul> <ul> PNPT</ul></li>\n",
    "    </ol>"
   ]
  },
  {
   "cell_type": "markdown",
   "id": "5eded442-1bdb-4bd5-8e60-ab3e5b9fb4e7",
   "metadata": {},
   "source": [
    "<h2><em> In summary to this mock-up Please do leave good review/grade. Thanks so much</em></h2>"
   ]
  },
  {
   "cell_type": "code",
   "execution_count": null,
   "id": "3c2289c7-d568-4acc-baf7-beeaefe4fb20",
   "metadata": {},
   "outputs": [],
   "source": []
  }
 ],
 "metadata": {
  "kernelspec": {
   "display_name": "Python",
   "language": "python",
   "name": "conda-env-python-py"
  },
  "language_info": {
   "codemirror_mode": {
    "name": "ipython",
    "version": 3
   },
   "file_extension": ".py",
   "mimetype": "text/x-python",
   "name": "python",
   "nbconvert_exporter": "python",
   "pygments_lexer": "ipython3",
   "version": "3.7.12"
  }
 },
 "nbformat": 4,
 "nbformat_minor": 5
}
